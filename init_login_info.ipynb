{
 "cells": [
  {
   "cell_type": "code",
   "execution_count": 1,
   "metadata": {},
   "outputs": [],
   "source": [
    "import sqlite3\n",
    "\n",
    "def create_database():\n",
    "    connection = sqlite3.connect('users.db')\n",
    "    cursor = connection.cursor()\n",
    "    \n",
    "    # ユーザーテーブルを作成\n",
    "    cursor.execute('''\n",
    "    CREATE TABLE IF NOT EXISTS users (\n",
    "        id INTEGER PRIMARY KEY,\n",
    "        username TEXT NOT NULL,\n",
    "        password TEXT NOT NULL\n",
    "    )\n",
    "    ''')\n",
    "\n",
    "    # 指定されたユーザー名とパスワードでユーザーを追加\n",
    "    cursor.execute(\"INSERT INTO users (username, password) VALUES (?, ?)\", ('Dot-P', 'ppp123'))\n",
    "    \n",
    "    connection.commit()\n",
    "    connection.close()\n",
    "\n",
    "create_database()\n"
   ]
  }
 ],
 "metadata": {
  "kernelspec": {
   "display_name": "Python 3",
   "language": "python",
   "name": "python3"
  },
  "language_info": {
   "codemirror_mode": {
    "name": "ipython",
    "version": 3
   },
   "file_extension": ".py",
   "mimetype": "text/x-python",
   "name": "python",
   "nbconvert_exporter": "python",
   "pygments_lexer": "ipython3",
   "version": "3.10.12"
  },
  "orig_nbformat": 4
 },
 "nbformat": 4,
 "nbformat_minor": 2
}
