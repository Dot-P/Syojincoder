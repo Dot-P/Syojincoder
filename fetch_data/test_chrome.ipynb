{
 "cells": [
  {
   "cell_type": "code",
   "execution_count": 2,
   "metadata": {},
   "outputs": [],
   "source": [
    "from selenium import webdriver\n",
    "from selenium.webdriver.common.by import By\n",
    "from selenium.webdriver.common.keys import Keys\n",
    "import chromedriver_binary\n",
    "from time import sleep\n",
    "\n",
    "# ドライバー指定でChromeブラウザを開く\n",
    "browser = webdriver.Chrome()\n",
    "\n",
    "sleep(2)\n",
    "\n",
    "# Googleアクセス\n",
    "browser.get('https://www.google.com/')\n",
    "\n",
    "sleep(5)\n",
    "\n",
    "# 検索ボックスを特定\n",
    "elem = browser.find_element(By.NAME, 'q')\n",
    "\n",
    "sleep(5)\n",
    "\n",
    "# 「Selenium」と入力して、「Enter」を押す\n",
    "elem.send_keys('Selenium' + Keys.RETURN)\n",
    "\n",
    "\n",
    "# ブラウザを閉じる\n",
    "#browser.quit()"
   ]
  },
  {
   "cell_type": "code",
   "execution_count": null,
   "metadata": {},
   "outputs": [],
   "source": []
  }
 ],
 "metadata": {
  "kernelspec": {
   "display_name": "Python 3 (ipykernel)",
   "language": "python",
   "name": "python3"
  },
  "orig_nbformat": 4
 },
 "nbformat": 4,
 "nbformat_minor": 2
}
