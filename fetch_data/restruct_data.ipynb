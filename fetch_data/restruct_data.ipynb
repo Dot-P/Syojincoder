{
 "cells": [
  {
   "cell_type": "code",
   "execution_count": 10,
   "metadata": {},
   "outputs": [],
   "source": [
    "import pandas as pd\n",
    "\n",
    "# CSVファイルを読み込む\n",
    "df = pd.read_csv('outputA.csv')\n",
    "\n",
    "# 'classifier'カラムを追加（初期値を設定する場合、適切な値を代入します）\n",
    "df['classifier'] = '' # ここに適切な値を設定できます\n",
    "df['WA_count'] = -1 \n",
    "\n",
    "# 'url'カラムが空の行を削除\n",
    "df = df[df['url'].notna()]\n",
    "\n",
    "# URLが指定された部分文字列を含むもののみを保持\n",
    "df = df[df['url'].str.contains('atcoder|hamayanhamayan')]\n",
    "\n",
    "# 変更をファイルに保存\n",
    "df.to_csv('outputA_1.csv', index=False)"
   ]
  },
  {
   "cell_type": "code",
   "execution_count": 11,
   "metadata": {},
   "outputs": [],
   "source": [
    "# CSVファイルを読み込む\n",
    "df = pd.read_csv('outputB.csv')\n",
    "\n",
    "# 'classifier'カラムを追加（初期値を設定する場合、適切な値を代入します）\n",
    "df['classifier'] = '' # ここに適切な値を設定できます\n",
    "df['WA_count'] = -1 \n",
    "\n",
    "# 'url'カラムが空の行を削除\n",
    "df = df[df['url'].notna()]\n",
    "\n",
    "# URLが指定された部分文字列を含むもののみを保持\n",
    "df = df[df['url'].str.contains('atcoder|hamayanhamayan')]\n",
    "\n",
    "# 変更をファイルに保存\n",
    "df.to_csv('outputB_1.csv', index=False)"
   ]
  },
  {
   "cell_type": "code",
   "execution_count": 12,
   "metadata": {},
   "outputs": [],
   "source": [
    "# CSVファイルを読み込む\n",
    "df = pd.read_csv('outputC.csv')\n",
    "\n",
    "# 'classifier'カラムを追加（初期値を設定する場合、適切な値を代入します）\n",
    "df['classifier'] = '' # ここに適切な値を設定できます\n",
    "df['WA_count'] = -1 \n",
    "\n",
    "# 'url'カラムが空の行を削除\n",
    "df = df[df['url'].notna()]\n",
    "\n",
    "# URLが指定された部分文字列を含むもののみを保持\n",
    "df = df[df['url'].str.contains('atcoder|hamayanhamayan')]\n",
    "\n",
    "# 変更をファイルに保存\n",
    "df.to_csv('outputC_1.csv', index=False)"
   ]
  },
  {
   "cell_type": "code",
   "execution_count": 13,
   "metadata": {},
   "outputs": [],
   "source": [
    "# CSVファイルを読み込む\n",
    "df = pd.read_csv('outputD.csv')\n",
    "\n",
    "# 'classifier'カラムを追加（初期値を設定する場合、適切な値を代入します）\n",
    "df['classifier'] = '' # ここに適切な値を設定できます\n",
    "df['WA_count'] = -1 \n",
    "\n",
    "# 'url'カラムが空の行を削除\n",
    "df = df[df['url'].notna()]\n",
    "\n",
    "# URLが指定された部分文字列を含むもののみを保持\n",
    "df = df[df['url'].str.contains('atcoder|hamayanhamayan')]\n",
    "\n",
    "# 変更をファイルに保存\n",
    "df.to_csv('outputD_1.csv', index=False)"
   ]
  },
  {
   "cell_type": "code",
   "execution_count": null,
   "metadata": {},
   "outputs": [],
   "source": []
  }
 ],
 "metadata": {
  "kernelspec": {
   "display_name": "Python 3 (ipykernel)",
   "language": "python",
   "name": "python3"
  },
  "language_info": {
   "codemirror_mode": {
    "name": "ipython",
    "version": 3
   },
   "file_extension": ".py",
   "mimetype": "text/x-python",
   "name": "python",
   "nbconvert_exporter": "python",
   "pygments_lexer": "ipython3",
   "version": "3.10.12"
  },
  "orig_nbformat": 4
 },
 "nbformat": 4,
 "nbformat_minor": 2
}
